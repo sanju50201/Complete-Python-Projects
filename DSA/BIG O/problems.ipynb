{
 "cells": [
  {
   "cell_type": "code",
   "execution_count": 6,
   "metadata": {},
   "outputs": [
    {
     "name": "stdout",
     "output_type": "stream",
     "text": [
      "Sum is: 15, Product is: 120\n"
     ]
    }
   ],
   "source": [
    "def foo(arr):\n",
    "    sum = 0\n",
    "    prod = 1\n",
    "    # function to get the sum of the elements in an array\n",
    "    for i, elem in enumerate(arr):\n",
    "        sum += elem\n",
    "    # function to get the product of the elements in an array \n",
    "    for i,elem in enumerate(arr):\n",
    "        prod *= elem\n",
    "    print(f\"Sum is: {sum}, Product is: {prod}\")\n",
    "arr = [1,2,3,4,5]\n",
    "foo(arr)"
   ]
  },
  {
   "cell_type": "code",
   "execution_count": null,
   "metadata": {},
   "outputs": [],
   "source": []
  }
 ],
 "metadata": {
  "kernelspec": {
   "display_name": "Python 3",
   "language": "python",
   "name": "python3"
  },
  "language_info": {
   "codemirror_mode": {
    "name": "ipython",
    "version": 3
   },
   "file_extension": ".py",
   "mimetype": "text/x-python",
   "name": "python",
   "nbconvert_exporter": "python",
   "pygments_lexer": "ipython3",
   "version": "3.11.2"
  },
  "orig_nbformat": 4,
  "vscode": {
   "interpreter": {
    "hash": "7c17595debeb5510ca213e1d183904915980d52046ff25e55c95daf5bada9bc2"
   }
  }
 },
 "nbformat": 4,
 "nbformat_minor": 2
}
